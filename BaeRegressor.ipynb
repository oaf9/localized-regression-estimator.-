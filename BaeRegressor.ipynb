{
 "cells": [
  {
   "cell_type": "code",
   "execution_count": null,
   "metadata": {},
   "outputs": [],
   "source": [
    "def hamming(x,y):\n",
    "\n",
    "    import numpy as np\n",
    "    import pandas as pd\n",
    "\n",
    "    return  len(np.setdiff1d(x,y,assume_unique=True, return_indices=False)) - abs(len(x)-len(y))\n",
    "\n"
   ]
  },
  {
   "cell_type": "code",
   "execution_count": 44,
   "metadata": {},
   "outputs": [],
   "source": [
    "class BaeRegressor:\n",
    "\n",
    "    import numpy as np\n",
    "    import pandas as pd\n",
    "\n",
    "    def __init__(self, min_distance, max_neighbors):\n",
    "        \n",
    "        self.min_distance = min_distance\n",
    "        self.max_neighbors = max_neighbors\n",
    "\n",
    "        self.data = {} # a hash set: each data point is associated to an id\n",
    "        self.ids = [] #  the keys for the set\n",
    "        self.response_dict = {}\n",
    "\n",
    "    def fit(self, X, response_dict, ids, ):\n",
    "\n",
    "        self.data= X #the training data a bunch of ids and key value pairs\n",
    "        self.ids = ids #the ids \n",
    "        self.response_dict = response_dict # a dictionary of response values by id \n",
    "\n",
    "\n",
    "    def predict(self, points, label):\n",
    "\n",
    "        predictions = []\n",
    "\n",
    "        for x in points:\n",
    "\n",
    "            neighbors  = []\n",
    "\n",
    "            for neighbor in self.ids:\n",
    "\n",
    "                if (hamming(x, self.data[neighbor]) <= self.min_distance and label in self.data[neighbor]) :\n",
    "                    neighbors.append(neighbor)\n",
    "\n",
    "            if len(neighbors) >= 1:\n",
    "                sum = 0\n",
    "                for neighbor in neighbors: \n",
    "                    sum += self.response_dict[neighbor][label]\n",
    "                    \n",
    "                predictions.append(sum/len(neighbors))\n",
    "\n",
    "            else:\n",
    "                predictions.append(2.5)\n",
    "\n",
    "            if len(neighbors) >= self.max_neighbors:\n",
    "                break\n",
    "\n",
    "        return np.array(predictions)\n",
    "    "
   ]
  },
  {
   "cell_type": "code",
   "execution_count": null,
   "metadata": {},
   "outputs": [],
   "source": [
    "#testing the predictor on movies dataset\n",
    "import warnings\n",
    "warnings.filterwarnings(\"ignore\")\n",
    "\n",
    "import pandas as pd\n",
    "import numpy as np\n",
    "\n",
    "movies = pd.read_csv(\"NetflixMovies.csv\")\n",
    "ratings = pd.read_csv(\"netflixRatings.csv\")\n",
    "\n",
    "ratings.head()"
   ]
  },
  {
   "cell_type": "code",
   "execution_count": null,
   "metadata": {},
   "outputs": [],
   "source": [
    "ratings.head()\n",
    "\n",
    "\n",
    "user_ids = ratings['User_ID'].unique()\n",
    "\n",
    "users1 = {}\n",
    "\n",
    "for ID in user_ids:\n",
    "\n",
    "    movies_rated = (ratings.loc[ratings['User_ID'] ==  ID])[\"Movie_ID\"].values\n",
    "    users1[ID] = movies_rated\n",
    "\n"
   ]
  },
  {
   "cell_type": "code",
   "execution_count": null,
   "metadata": {},
   "outputs": [],
   "source": [
    "\n",
    "users = {}\n",
    "\n",
    "for ID in user_ids:\n",
    "\n",
    "    user_data = ratings.loc[ratings['User_ID'] == 656399]\n",
    "\n",
    "    user_ratings =  dict(zip(user_data[\"Movie_ID\"].values, user_data[\"Rating\"].values ))\n",
    "    users[ID] = user_ratings\n",
    "\n",
    "print(users)\n",
    "\n",
    "\n",
    "\n"
   ]
  },
  {
   "cell_type": "code",
   "execution_count": 35,
   "metadata": {},
   "outputs": [],
   "source": [
    "train_ratings = ratings.loc[ratings['Movie_ID'] == 1905]\n",
    "\n",
    "\n",
    "X_test = train_ratings.sample(frac = 0.8, random_state=0)\n",
    "test_ids = X_test['User_ID'].values\n",
    "\n",
    "#remove all the ratings from people in the test data. \n",
    "X_train = X_train.drop(X_train[X_train['User_ID'].isin(test_ids)].index)\n",
    "\n",
    "\n",
    "\n"
   ]
  },
  {
   "cell_type": "code",
   "execution_count": 45,
   "metadata": {},
   "outputs": [
    {
     "data": {
      "text/plain": [
       "<__main__.BaeRegressor at 0x7fb1781e9310>"
      ]
     },
     "execution_count": 45,
     "metadata": {},
     "output_type": "execute_result"
    }
   ],
   "source": [
    "\n",
    "BaeRegressor(min_distance= 10, max_neighbors=20)\n",
    "BaeRegressor.fit()\n",
    "\n"
   ]
  }
 ],
 "metadata": {
  "kernelspec": {
   "display_name": "base",
   "language": "python",
   "name": "python3"
  },
  "language_info": {
   "codemirror_mode": {
    "name": "ipython",
    "version": 3
   },
   "file_extension": ".py",
   "mimetype": "text/x-python",
   "name": "python",
   "nbconvert_exporter": "python",
   "pygments_lexer": "ipython3",
   "version": "3.9.7"
  }
 },
 "nbformat": 4,
 "nbformat_minor": 2
}
